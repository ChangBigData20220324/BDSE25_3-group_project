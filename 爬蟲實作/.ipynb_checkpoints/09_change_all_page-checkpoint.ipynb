{
 "cells": [
  {
   "cell_type": "markdown",
   "id": "bf59ce86-93a2-4e60-b02a-d56baced4887",
   "metadata": {},
   "source": [
    "# link\n",
    "https://www.yes123.com.tw/wk_index/joblist.asp?search_job_t=1&strrec=0&search_key_word=%E5%BE%8C%E7%AB%AF%E5%B7%A5%E7%A8%8B%E5%B8%AB&search_type=job&search_item=1&search_from=index\n"
   ]
  },
  {
   "cell_type": "markdown",
   "id": "aea371e7-f4ae-41b8-941f-7c103000f23b",
   "metadata": {},
   "source": [
    "# 問題\n",
    "1. 如何找到搜尋結果的最多頁數\n",
    "2. check 帶入的變數到迴圈是可以執行的\n",
    "3. 迴圈如何寫\n",
    "\n",
    "# 想法\n",
    "1. 找出最後一筆的OPTION STR內容,帶入range 迴圈參考上方網址"
   ]
  },
  {
   "cell_type": "code",
   "execution_count": 10,
   "id": "46e1d6c8-78a4-4181-b4ff-0d1c2e46aa09",
   "metadata": {
    "tags": []
   },
   "outputs": [],
   "source": [
    "# 只能換一頁\n",
    "from selenium import webdriver\n",
    "from selenium.webdriver.chrome.service import Service\n",
    "from selenium.webdriver.common.by import By\n",
    "from selenium.webdriver.support.ui import Select\n",
    "from bs4 import BeautifulSoup\n",
    "import time\n",
    "from selenium.webdriver import ActionChains"
   ]
  },
  {
   "cell_type": "code",
   "execution_count": 8,
   "id": "12acd73b-abd0-4944-b611-376b538b11de",
   "metadata": {
    "collapsed": true,
    "jupyter": {
     "outputs_hidden": true
    },
    "tags": []
   },
   "outputs": [
    {
     "name": "stdout",
     "output_type": "stream",
     "text": [
      "2\n",
      "3\n",
      "4\n",
      "5\n",
      "6\n",
      "7\n",
      "8\n",
      "9\n",
      "10\n",
      "11\n",
      "12\n",
      "13\n",
      "14\n",
      "15\n",
      "16\n",
      "17\n",
      "18\n",
      "19\n",
      "20\n",
      "21\n",
      "22\n",
      "23\n",
      "24\n",
      "25\n",
      "26\n",
      "27\n",
      "28\n",
      "29\n",
      "30\n",
      "31\n",
      "32\n",
      "33\n",
      "34\n",
      "35\n",
      "36\n",
      "37\n",
      "38\n",
      "39\n",
      "40\n",
      "41\n",
      "42\n",
      "43\n",
      "44\n",
      "45\n",
      "46\n",
      "47\n",
      "48\n",
      "49\n",
      "50\n",
      "51\n",
      "52\n",
      "53\n",
      "54\n",
      "55\n",
      "56\n",
      "57\n",
      "58\n",
      "59\n",
      "60\n",
      "61\n",
      "62\n",
      "63\n",
      "64\n",
      "65\n",
      "66\n",
      "67\n",
      "68\n",
      "69\n",
      "70\n",
      "71\n",
      "72\n",
      "73\n",
      "74\n",
      "75\n",
      "76\n",
      "77\n",
      "78\n",
      "79\n",
      "80\n",
      "81\n",
      "82\n",
      "83\n",
      "84\n",
      "85\n",
      "86\n",
      "87\n",
      "88\n",
      "89\n",
      "90\n",
      "91\n",
      "92\n",
      "93\n",
      "94\n",
      "95\n",
      "96\n",
      "97\n",
      "98\n",
      "99\n",
      "[2, 3, 4, 5, 6, 7, 8, 9, 10, 11, 12, 13, 14, 15, 16, 17, 18, 19, 20, 21, 22, 23, 24, 25, 26, 27, 28, 29, 30, 31, 32, 33, 34, 35, 36, 37, 38, 39, 40, 41, 42, 43, 44, 45, 46, 47, 48, 49, 50, 51, 52, 53, 54, 55, 56, 57, 58, 59, 60, 61, 62, 63, 64, 65, 66, 67, 68, 69, 70, 71, 72, 73, 74, 75, 76, 77, 78, 79, 80, 81, 82, 83, 84, 85, 86, 87, 88, 89, 90, 91, 92, 93, 94, 95, 96, 97, 98, 99]\n"
     ]
    }
   ],
   "source": [
    "# 抓出所有頁數文字,存取成list\n",
    "s = Service(\"./chromedriver.exe\")\n",
    "driver = webdriver.Chrome(service=s)\n",
    "driver.get(\"https://www.yes123.com.tw/wk_index/joblist.asp?search_job_t=1&strrec=0&search_key_word=%E5%BE%8C%E7%AB%AF%E5%B7%A5%E7%A8%8B%E5%B8%AB&search_type=job&search_item=1&search_from=index\")\n",
    "# 換頁\n",
    "time.sleep(3)\n",
    "allkey = driver.page_source\n",
    "time.sleep(1)\n",
    "soup = BeautifulSoup(str(allkey), 'html.parser')\n",
    "driver.close()\n",
    "pages=[]\n",
    "page=soup.find(\"div\",{\"id\":\"select_page_num\"}).find_all(\"option\")[1:-1]\n",
    "for i in page:\n",
    "    allpage_value=int(i.text)\n",
    "    pages.append(allpage_value)\n",
    "    print(allpage_value)\n",
    "print(pages)"
   ]
  },
  {
   "cell_type": "code",
   "execution_count": 12,
   "id": "8576cff1-518a-43c3-85a9-9a23c03cfa0a",
   "metadata": {
    "tags": []
   },
   "outputs": [],
   "source": [
    "# 取出頁數字串,模擬換頁,實作可操過30頁\n",
    "s = Service(\"./chromedriver.exe\")\n",
    "driver = webdriver.Chrome(service=s)\n",
    "driver.get(\"https://www.yes123.com.tw/wk_index/joblist.asp?search_job_t=1&strrec=0&search_key_word=%E5%BE%8C%E7%AB%AF%E5%B7%A5%E7%A8%8B%E5%B8%AB&search_type=job&search_item=1&search_from=index\")\n",
    "time.sleep(2)\n",
    "for pagevalue in pages: \n",
    "    s4=Select(driver.find_element(By.ID,'inputState'))  \n",
    "    time.sleep(3)\n",
    "    s4.select_by_index(pagevalue) \n",
    "    time.sleep(1)\n",
    "driver.close()   "
   ]
  },
  {
   "cell_type": "code",
   "execution_count": null,
   "id": "84d4a3ac-f164-4514-bcf9-97d02f2f8a36",
   "metadata": {},
   "outputs": [],
   "source": []
  }
 ],
 "metadata": {
  "kernelspec": {
   "display_name": "Python 3 (ipykernel)",
   "language": "python",
   "name": "python3"
  },
  "language_info": {
   "codemirror_mode": {
    "name": "ipython",
    "version": 3
   },
   "file_extension": ".py",
   "mimetype": "text/x-python",
   "name": "python",
   "nbconvert_exporter": "python",
   "pygments_lexer": "ipython3",
   "version": "3.9.11"
  }
 },
 "nbformat": 4,
 "nbformat_minor": 5
}
