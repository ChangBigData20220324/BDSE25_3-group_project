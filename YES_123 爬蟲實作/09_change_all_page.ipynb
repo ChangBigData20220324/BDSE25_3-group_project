{
 "cells": [
  {
   "cell_type": "markdown",
   "id": "bf59ce86-93a2-4e60-b02a-d56baced4887",
   "metadata": {},
   "source": [
    "# link\n",
    "https://www.yes123.com.tw/wk_index/joblist.asp?search_job_t=1&strrec=0&search_key_word=%E5%BE%8C%E7%AB%AF%E5%B7%A5%E7%A8%8B%E5%B8%AB&search_type=job&search_item=1&search_from=index\n"
   ]
  },
  {
   "cell_type": "markdown",
   "id": "aea371e7-f4ae-41b8-941f-7c103000f23b",
   "metadata": {},
   "source": [
    "# 問題\n",
    "1. 如何找到搜尋結果的最多頁數\n",
    "2. check 帶入的變數到迴圈是可以執行的\n",
    "3. 迴圈如何寫\n",
    "\n",
    "# 想法\n",
    "1. 找出最後一筆的OPTION STR內容,帶入range 迴圈參考上方網址"
   ]
  },
  {
   "cell_type": "code",
   "execution_count": 2,
   "id": "46e1d6c8-78a4-4181-b4ff-0d1c2e46aa09",
   "metadata": {
    "tags": []
   },
   "outputs": [],
   "source": [
    "# 只能換一頁\n",
    "from selenium import webdriver\n",
    "from selenium.webdriver.chrome.service import Service\n",
    "from selenium.webdriver.common.by import By\n",
    "from selenium.webdriver.support.ui import Select\n",
    "from bs4 import BeautifulSoup\n",
    "import time\n",
    "from selenium.webdriver import ActionChains"
   ]
  },
  {
   "cell_type": "code",
   "execution_count": 6,
   "id": "12acd73b-abd0-4944-b611-376b538b11de",
   "metadata": {
    "tags": []
   },
   "outputs": [
    {
     "name": "stdout",
     "output_type": "stream",
     "text": [
      "1\n",
      "2\n",
      "3\n",
      "[0, 1, 2, 3]\n"
     ]
    }
   ],
   "source": [
    "# 抓出所有頁數文字,存取成list\n",
    "s = Service(\"./chromedriver.exe\")\n",
    "driver = webdriver.Chrome(service=s)\n",
    "driver.get(\"https://www.yes123.com.tw/wk_index/joblist.asp?search_job_t=1&strrec=0&search_key_word=%E5%BE%8C%E7%AB%AF%E5%B7%A5%E7%A8%8B%E5%B8%AB&search_type=job&search_item=1&search_from=index\")\n",
    "# 換頁\n",
    "time.sleep(3)\n",
    "allkey = driver.page_source\n",
    "time.sleep(1)\n",
    "soup = BeautifulSoup(str(allkey), 'html.parser')\n",
    "driver.close()\n",
    "pages=[]\n",
    "page=soup.find(\"div\",{\"id\":\"select_page_num\"}).find_all(\"option\")[:3]\n",
    "for i in page:\n",
    "    allpage_value=int(i.text)\n",
    "    pages.append(allpage_value)\n",
    "    print(allpage_value)\n",
    "\n",
    "pages.insert(0,0)\n",
    "print(pages)\n"
   ]
  },
  {
   "cell_type": "code",
   "execution_count": 12,
   "id": "8576cff1-518a-43c3-85a9-9a23c03cfa0a",
   "metadata": {
    "tags": []
   },
   "outputs": [],
   "source": [
    "# 取出頁數字串,模擬換頁,實作可操過30頁\n",
    "s = Service(\"./chromedriver.exe\")\n",
    "driver = webdriver.Chrome(service=s)\n",
    "driver.get(\"https://www.yes123.com.tw/wk_index/joblist.asp?search_job_t=1&strrec=0&search_key_word=%E5%BE%8C%E7%AB%AF%E5%B7%A5%E7%A8%8B%E5%B8%AB&search_type=job&search_item=1&search_from=index\")\n",
    "time.sleep(2)\n",
    "for pagevalue in pages: \n",
    "    s4=Select(driver.find_element(By.ID,'inputState'))  \n",
    "    time.sleep(3)\n",
    "    s4.select_by_index(pagevalue) \n",
    "    time.sleep(1)\n",
    "driver.close()   "
   ]
  },
  {
   "cell_type": "code",
   "execution_count": null,
   "id": "84d4a3ac-f164-4514-bcf9-97d02f2f8a36",
   "metadata": {},
   "outputs": [],
   "source": []
  }
 ],
 "metadata": {
  "kernelspec": {
   "display_name": "Python 3 (ipykernel)",
   "language": "python",
   "name": "python3"
  },
  "language_info": {
   "codemirror_mode": {
    "name": "ipython",
    "version": 3
   },
   "file_extension": ".py",
   "mimetype": "text/x-python",
   "name": "python",
   "nbconvert_exporter": "python",
   "pygments_lexer": "ipython3",
   "version": "3.9.11"
  }
 },
 "nbformat": 4,
 "nbformat_minor": 5
}
