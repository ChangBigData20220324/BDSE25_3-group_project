{
 "cells": [
  {
   "cell_type": "markdown",
   "id": "0d85164c-0276-4018-a6ca-70a617eb67f9",
   "metadata": {},
   "source": [
    "link:\n",
    "\n",
    "https://www.yes123.com.tw/wk_index/joblist.asp?search_job_t=1&strrec=0&search_key_word=%E5%BE%8C%E7%AB%AF%E5%B7%A5%E7%A8%8B%E5%B8%AB&search_type=job&search_item=1&search_from=index"
   ]
  },
  {
   "cell_type": "markdown",
   "id": "2f67c9df-90f0-4371-8362-881fa3be14e4",
   "metadata": {},
   "source": [
    "### 測試> 輸出2頁需要內容,成csv"
   ]
  },
  {
   "cell_type": "code",
   "execution_count": 3,
   "id": "5b72fc4d-48a1-48ed-a85d-48c15e75f6df",
   "metadata": {
    "tags": []
   },
   "outputs": [
    {
     "name": "stderr",
     "output_type": "stream",
     "text": [
      "C:\\Users\\Student\\AppData\\Local\\Temp\\ipykernel_10316\\3893046355.py:19: DeprecationWarning: find_element_by_xpath is deprecated. Please use find_element(by=By.XPATH, value=xpath) instead\n",
      "  addr= driver.find_element_by_xpath('//*[@id=\"switch_tab\"]/div[2]/div[1]/div[4]/p').text\n",
      "C:\\Users\\Student\\AppData\\Local\\Temp\\ipykernel_10316\\3893046355.py:20: DeprecationWarning: find_element_by_xpath is deprecated. Please use find_element(by=By.XPATH, value=xpath) instead\n",
      "  content=driver.find_element_by_xpath('//*[@id=\"switch_tab\"]/div[2]/div[1]/div[5]/p').text\n",
      "C:\\Users\\Student\\AppData\\Local\\Temp\\ipykernel_10316\\3893046355.py:21: DeprecationWarning: find_element_by_xpath is deprecated. Please use find_element(by=By.XPATH, value=xpath) instead\n",
      "  learn=driver.find_element_by_xpath('//*[@id=\"switch_tab\"]/div[2]/div[2]/div[2]/p').text\n"
     ]
    },
    {
     "ename": "NoSuchElementException",
     "evalue": "Message: no such element: Unable to locate element: {\"method\":\"xpath\",\"selector\":\"//*[@id=\"switch_tab\"]/div[2]/div[1]/div[4]/p\"}\n  (Session info: chrome=104.0.5112.81)\nStacktrace:\nBacktrace:\n\tOrdinal0 [0x002678B3+2193587]\n\tOrdinal0 [0x00200681+1771137]\n\tOrdinal0 [0x001141A8+803240]\n\tOrdinal0 [0x001424A0+992416]\n\tOrdinal0 [0x0014273B+993083]\n\tOrdinal0 [0x0016F7C2+1177538]\n\tOrdinal0 [0x0015D7F4+1103860]\n\tOrdinal0 [0x0016DAE2+1170146]\n\tOrdinal0 [0x0015D5C6+1103302]\n\tOrdinal0 [0x001377E0+948192]\n\tOrdinal0 [0x001386E6+952038]\n\tGetHandleVerifier [0x00510CB2+2738370]\n\tGetHandleVerifier [0x005021B8+2678216]\n\tGetHandleVerifier [0x002F17AA+512954]\n\tGetHandleVerifier [0x002F0856+509030]\n\tOrdinal0 [0x0020743B+1799227]\n\tOrdinal0 [0x0020BB68+1817448]\n\tOrdinal0 [0x0020BC55+1817685]\n\tOrdinal0 [0x00215230+1856048]\n\tBaseThreadInitThunk [0x76E7FA29+25]\n\tRtlGetAppContainerNamedObjectPath [0x770B7A7E+286]\n\tRtlGetAppContainerNamedObjectPath [0x770B7A4E+238]\n\t(No symbol) [0x00000000]\n",
     "output_type": "error",
     "traceback": [
      "\u001b[1;31m---------------------------------------------------------------------------\u001b[0m",
      "\u001b[1;31mNoSuchElementException\u001b[0m                    Traceback (most recent call last)",
      "Input \u001b[1;32mIn [3]\u001b[0m, in \u001b[0;36m<cell line: 13>\u001b[1;34m()\u001b[0m\n\u001b[0;32m     17\u001b[0m time\u001b[38;5;241m.\u001b[39msleep(\u001b[38;5;241m2\u001b[39m)\n\u001b[0;32m     18\u001b[0m get_hide\u001b[38;5;241m=\u001b[39mdriver\u001b[38;5;241m.\u001b[39mfind_elements(by\u001b[38;5;241m=\u001b[39mBy\u001b[38;5;241m.\u001b[39mCLASS_NAME, value\u001b[38;5;241m=\u001b[39m\u001b[38;5;124m'\u001b[39m\u001b[38;5;124mcol-12.d-flex\u001b[39m\u001b[38;5;124m'\u001b[39m)\n\u001b[1;32m---> 19\u001b[0m addr\u001b[38;5;241m=\u001b[39m \u001b[43mdriver\u001b[49m\u001b[38;5;241;43m.\u001b[39;49m\u001b[43mfind_element_by_xpath\u001b[49m\u001b[43m(\u001b[49m\u001b[38;5;124;43m'\u001b[39;49m\u001b[38;5;124;43m//*[@id=\u001b[39;49m\u001b[38;5;124;43m\"\u001b[39;49m\u001b[38;5;124;43mswitch_tab\u001b[39;49m\u001b[38;5;124;43m\"\u001b[39;49m\u001b[38;5;124;43m]/div[2]/div[1]/div[4]/p\u001b[39;49m\u001b[38;5;124;43m'\u001b[39;49m\u001b[43m)\u001b[49m\u001b[38;5;241m.\u001b[39mtext\n\u001b[0;32m     20\u001b[0m content\u001b[38;5;241m=\u001b[39mdriver\u001b[38;5;241m.\u001b[39mfind_element_by_xpath(\u001b[38;5;124m'\u001b[39m\u001b[38;5;124m//*[@id=\u001b[39m\u001b[38;5;124m\"\u001b[39m\u001b[38;5;124mswitch_tab\u001b[39m\u001b[38;5;124m\"\u001b[39m\u001b[38;5;124m]/div[2]/div[1]/div[5]/p\u001b[39m\u001b[38;5;124m'\u001b[39m)\u001b[38;5;241m.\u001b[39mtext\n\u001b[0;32m     21\u001b[0m learn\u001b[38;5;241m=\u001b[39mdriver\u001b[38;5;241m.\u001b[39mfind_element_by_xpath(\u001b[38;5;124m'\u001b[39m\u001b[38;5;124m//*[@id=\u001b[39m\u001b[38;5;124m\"\u001b[39m\u001b[38;5;124mswitch_tab\u001b[39m\u001b[38;5;124m\"\u001b[39m\u001b[38;5;124m]/div[2]/div[2]/div[2]/p\u001b[39m\u001b[38;5;124m'\u001b[39m)\u001b[38;5;241m.\u001b[39mtext\n",
      "File \u001b[1;32m~\\AppData\\Roaming\\Python\\Python39\\site-packages\\selenium\\webdriver\\remote\\webdriver.py:526\u001b[0m, in \u001b[0;36mWebDriver.find_element_by_xpath\u001b[1;34m(self, xpath)\u001b[0m\n\u001b[0;32m    504\u001b[0m \u001b[38;5;124;03m\"\"\"\u001b[39;00m\n\u001b[0;32m    505\u001b[0m \u001b[38;5;124;03mFinds an element by xpath.\u001b[39;00m\n\u001b[0;32m    506\u001b[0m \n\u001b[1;32m   (...)\u001b[0m\n\u001b[0;32m    519\u001b[0m \u001b[38;5;124;03m        element = driver.find_element_by_xpath('//div/td[1]')\u001b[39;00m\n\u001b[0;32m    520\u001b[0m \u001b[38;5;124;03m\"\"\"\u001b[39;00m\n\u001b[0;32m    521\u001b[0m warnings\u001b[38;5;241m.\u001b[39mwarn(\n\u001b[0;32m    522\u001b[0m     \u001b[38;5;124m\"\u001b[39m\u001b[38;5;124mfind_element_by_xpath is deprecated. Please use find_element(by=By.XPATH, value=xpath) instead\u001b[39m\u001b[38;5;124m\"\u001b[39m,\n\u001b[0;32m    523\u001b[0m     \u001b[38;5;167;01mDeprecationWarning\u001b[39;00m,\n\u001b[0;32m    524\u001b[0m     stacklevel\u001b[38;5;241m=\u001b[39m\u001b[38;5;241m2\u001b[39m,\n\u001b[0;32m    525\u001b[0m )\n\u001b[1;32m--> 526\u001b[0m \u001b[38;5;28;01mreturn\u001b[39;00m \u001b[38;5;28;43mself\u001b[39;49m\u001b[38;5;241;43m.\u001b[39;49m\u001b[43mfind_element\u001b[49m\u001b[43m(\u001b[49m\u001b[43mby\u001b[49m\u001b[38;5;241;43m=\u001b[39;49m\u001b[43mBy\u001b[49m\u001b[38;5;241;43m.\u001b[39;49m\u001b[43mXPATH\u001b[49m\u001b[43m,\u001b[49m\u001b[43m \u001b[49m\u001b[43mvalue\u001b[49m\u001b[38;5;241;43m=\u001b[39;49m\u001b[43mxpath\u001b[49m\u001b[43m)\u001b[49m\n",
      "File \u001b[1;32m~\\AppData\\Roaming\\Python\\Python39\\site-packages\\selenium\\webdriver\\remote\\webdriver.py:1251\u001b[0m, in \u001b[0;36mWebDriver.find_element\u001b[1;34m(self, by, value)\u001b[0m\n\u001b[0;32m   1248\u001b[0m     by \u001b[38;5;241m=\u001b[39m By\u001b[38;5;241m.\u001b[39mCSS_SELECTOR\n\u001b[0;32m   1249\u001b[0m     value \u001b[38;5;241m=\u001b[39m \u001b[38;5;124m'\u001b[39m\u001b[38;5;124m[name=\u001b[39m\u001b[38;5;124m\"\u001b[39m\u001b[38;5;132;01m%s\u001b[39;00m\u001b[38;5;124m\"\u001b[39m\u001b[38;5;124m]\u001b[39m\u001b[38;5;124m'\u001b[39m \u001b[38;5;241m%\u001b[39m value\n\u001b[1;32m-> 1251\u001b[0m \u001b[38;5;28;01mreturn\u001b[39;00m \u001b[38;5;28;43mself\u001b[39;49m\u001b[38;5;241;43m.\u001b[39;49m\u001b[43mexecute\u001b[49m\u001b[43m(\u001b[49m\u001b[43mCommand\u001b[49m\u001b[38;5;241;43m.\u001b[39;49m\u001b[43mFIND_ELEMENT\u001b[49m\u001b[43m,\u001b[49m\u001b[43m \u001b[49m\u001b[43m{\u001b[49m\n\u001b[0;32m   1252\u001b[0m \u001b[43m    \u001b[49m\u001b[38;5;124;43m'\u001b[39;49m\u001b[38;5;124;43musing\u001b[39;49m\u001b[38;5;124;43m'\u001b[39;49m\u001b[43m:\u001b[49m\u001b[43m \u001b[49m\u001b[43mby\u001b[49m\u001b[43m,\u001b[49m\n\u001b[0;32m   1253\u001b[0m \u001b[43m    \u001b[49m\u001b[38;5;124;43m'\u001b[39;49m\u001b[38;5;124;43mvalue\u001b[39;49m\u001b[38;5;124;43m'\u001b[39;49m\u001b[43m:\u001b[49m\u001b[43m \u001b[49m\u001b[43mvalue\u001b[49m\u001b[43m}\u001b[49m\u001b[43m)\u001b[49m[\u001b[38;5;124m'\u001b[39m\u001b[38;5;124mvalue\u001b[39m\u001b[38;5;124m'\u001b[39m]\n",
      "File \u001b[1;32m~\\AppData\\Roaming\\Python\\Python39\\site-packages\\selenium\\webdriver\\remote\\webdriver.py:430\u001b[0m, in \u001b[0;36mWebDriver.execute\u001b[1;34m(self, driver_command, params)\u001b[0m\n\u001b[0;32m    428\u001b[0m response \u001b[38;5;241m=\u001b[39m \u001b[38;5;28mself\u001b[39m\u001b[38;5;241m.\u001b[39mcommand_executor\u001b[38;5;241m.\u001b[39mexecute(driver_command, params)\n\u001b[0;32m    429\u001b[0m \u001b[38;5;28;01mif\u001b[39;00m response:\n\u001b[1;32m--> 430\u001b[0m     \u001b[38;5;28;43mself\u001b[39;49m\u001b[38;5;241;43m.\u001b[39;49m\u001b[43merror_handler\u001b[49m\u001b[38;5;241;43m.\u001b[39;49m\u001b[43mcheck_response\u001b[49m\u001b[43m(\u001b[49m\u001b[43mresponse\u001b[49m\u001b[43m)\u001b[49m\n\u001b[0;32m    431\u001b[0m     response[\u001b[38;5;124m'\u001b[39m\u001b[38;5;124mvalue\u001b[39m\u001b[38;5;124m'\u001b[39m] \u001b[38;5;241m=\u001b[39m \u001b[38;5;28mself\u001b[39m\u001b[38;5;241m.\u001b[39m_unwrap_value(\n\u001b[0;32m    432\u001b[0m         response\u001b[38;5;241m.\u001b[39mget(\u001b[38;5;124m'\u001b[39m\u001b[38;5;124mvalue\u001b[39m\u001b[38;5;124m'\u001b[39m, \u001b[38;5;28;01mNone\u001b[39;00m))\n\u001b[0;32m    433\u001b[0m     \u001b[38;5;28;01mreturn\u001b[39;00m response\n",
      "File \u001b[1;32m~\\AppData\\Roaming\\Python\\Python39\\site-packages\\selenium\\webdriver\\remote\\errorhandler.py:247\u001b[0m, in \u001b[0;36mErrorHandler.check_response\u001b[1;34m(self, response)\u001b[0m\n\u001b[0;32m    245\u001b[0m         alert_text \u001b[38;5;241m=\u001b[39m value[\u001b[38;5;124m'\u001b[39m\u001b[38;5;124malert\u001b[39m\u001b[38;5;124m'\u001b[39m]\u001b[38;5;241m.\u001b[39mget(\u001b[38;5;124m'\u001b[39m\u001b[38;5;124mtext\u001b[39m\u001b[38;5;124m'\u001b[39m)\n\u001b[0;32m    246\u001b[0m     \u001b[38;5;28;01mraise\u001b[39;00m exception_class(message, screen, stacktrace, alert_text)  \u001b[38;5;66;03m# type: ignore[call-arg]  # mypy is not smart enough here\u001b[39;00m\n\u001b[1;32m--> 247\u001b[0m \u001b[38;5;28;01mraise\u001b[39;00m exception_class(message, screen, stacktrace)\n",
      "\u001b[1;31mNoSuchElementException\u001b[0m: Message: no such element: Unable to locate element: {\"method\":\"xpath\",\"selector\":\"//*[@id=\"switch_tab\"]/div[2]/div[1]/div[4]/p\"}\n  (Session info: chrome=104.0.5112.81)\nStacktrace:\nBacktrace:\n\tOrdinal0 [0x002678B3+2193587]\n\tOrdinal0 [0x00200681+1771137]\n\tOrdinal0 [0x001141A8+803240]\n\tOrdinal0 [0x001424A0+992416]\n\tOrdinal0 [0x0014273B+993083]\n\tOrdinal0 [0x0016F7C2+1177538]\n\tOrdinal0 [0x0015D7F4+1103860]\n\tOrdinal0 [0x0016DAE2+1170146]\n\tOrdinal0 [0x0015D5C6+1103302]\n\tOrdinal0 [0x001377E0+948192]\n\tOrdinal0 [0x001386E6+952038]\n\tGetHandleVerifier [0x00510CB2+2738370]\n\tGetHandleVerifier [0x005021B8+2678216]\n\tGetHandleVerifier [0x002F17AA+512954]\n\tGetHandleVerifier [0x002F0856+509030]\n\tOrdinal0 [0x0020743B+1799227]\n\tOrdinal0 [0x0020BB68+1817448]\n\tOrdinal0 [0x0020BC55+1817685]\n\tOrdinal0 [0x00215230+1856048]\n\tBaseThreadInitThunk [0x76E7FA29+25]\n\tRtlGetAppContainerNamedObjectPath [0x770B7A7E+286]\n\tRtlGetAppContainerNamedObjectPath [0x770B7A4E+238]\n\t(No symbol) [0x00000000]\n"
     ]
    }
   ],
   "source": [
    "from selenium import webdriver\n",
    "from selenium.webdriver.chrome.service import Service\n",
    "from selenium.webdriver.common.by import By\n",
    "import time\n",
    "from selenium.webdriver import ActionChains\n",
    "import csv\n",
    "s = Service(\"./chromedriver.exe\")\n",
    "driver = webdriver.Chrome(service=s)\n",
    "driver.get(\"https://www.yes123.com.tw/wk_index/joblist.asp?search_job_t=1&strrec=0&search_key_word=%E5%BE%8C%E7%AB%AF%E5%B7%A5%E7%A8%8B%E5%B8%AB&search_type=job&search_item=1&search_from=index\")\n",
    "# titles=driver.find_elements_by_class_name(\"Job_opening_item\")#舊寫法\n",
    "results=[]\n",
    "page=driver.find_elements(by=By.CLASS_NAME, value='Job_opening_item')[:2]\n",
    "for pages in page:\n",
    "    mouse=driver.find_elements(by=By.CLASS_NAME, value='Job_opening_item')\n",
    "    for mouses in mouse:  \n",
    "        ActionChains(driver).click(mouses).perform()\n",
    "        time.sleep(2)\n",
    "        get_hide=driver.find_elements(by=By.CLASS_NAME, value='col-12.d-flex')\n",
    "        addr= driver.find_element_by_xpath('//*[@id=\"switch_tab\"]/div[2]/div[1]/div[4]/p').text\n",
    "        content=driver.find_element_by_xpath('//*[@id=\"switch_tab\"]/div[2]/div[1]/div[5]/p').text\n",
    "        learn=driver.find_element_by_xpath('//*[@id=\"switch_tab\"]/div[2]/div[2]/div[2]/p').text\n",
    "        bus = mouses.find_element(by=By.TAG_NAME, value='h6').text\n",
    "        name = mouses.find_element(by=By.TAG_NAME, value='h5').text\n",
    "        salary = mouses.find_element(by=By.TAG_NAME, value='span').text\n",
    "        time.sleep(1)\n",
    "#以下寫入的list        \n",
    "        result ={\n",
    "             '職稱': name,\n",
    "            '公司名稱': bus,\n",
    "            '薪資': salary,\n",
    "            '地址':addr,\n",
    "            '工作內容':content,\n",
    "            '學歷要求':learn\n",
    "        }\n",
    "        results.append(result)\n",
    "    changepage=driver.find_element(by=By.CLASS_NAME, value=\"page-control.next\")\n",
    "    ActionChains(driver).click(changepage).perform()\n",
    "    time.sleep(1)\n",
    "driver.close() \n",
    "print(results)\n",
    "#字典轉乘csv格式匯出\n",
    "labels = ['職稱','公司名稱','薪資','地址','工作內容','學歷要求']\n",
    "dct_arr = results\n",
    "try:\n",
    "    with open('30page_work.csv', 'w',encoding='utf-8') as f:\n",
    "        writer = csv.DictWriter(f, fieldnames=labels)\n",
    "        writer.writeheader()\n",
    "        for elem in dct_arr:\n",
    "            writer.writerow(elem)\n",
    "except IOError:\n",
    "    print(\"I/O error\")"
   ]
  },
  {
   "cell_type": "code",
   "execution_count": null,
   "id": "d2bcf19f-e849-4b13-8dca-bd8158793220",
   "metadata": {},
   "outputs": [],
   "source": []
  }
 ],
 "metadata": {
  "kernelspec": {
   "display_name": "Python 3 (ipykernel)",
   "language": "python",
   "name": "python3"
  },
  "language_info": {
   "codemirror_mode": {
    "name": "ipython",
    "version": 3
   },
   "file_extension": ".py",
   "mimetype": "text/x-python",
   "name": "python",
   "nbconvert_exporter": "python",
   "pygments_lexer": "ipython3",
   "version": "3.9.11"
  }
 },
 "nbformat": 4,
 "nbformat_minor": 5
}
