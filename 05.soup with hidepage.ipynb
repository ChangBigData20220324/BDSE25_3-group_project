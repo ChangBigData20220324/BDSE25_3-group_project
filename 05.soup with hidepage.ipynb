{
 "cells": [
  {
   "cell_type": "markdown",
   "id": "4e9c79b2-4d3d-4e35-a22f-f1b01a6bd682",
   "metadata": {},
   "source": [
    "# 目的 : 用soup 解析分割浮動視窗資料"
   ]
  },
  {
   "cell_type": "code",
   "execution_count": null,
   "id": "16089136-f0a0-4bf3-9b7e-ad36b02c11eb",
   "metadata": {},
   "outputs": [],
   "source": [
    "from selenium import webdriver\n",
    "from selenium.webdriver.chrome.service import Service\n",
    "from selenium.webdriver.common.by import By\n",
    "from bs4 import BeautifulSoup\n",
    "import time\n",
    "\n",
    "s = Service(\"./chromedriver.exe\")\n",
    "driver = webdriver.Chrome(service=s)\n",
    "driver.get(\"https://www.yes123.com.tw/wk_index/joblist.asp?search_job_t=1&strrec=0&search_key_word=%E5%BE%8C%E7%AB%AF%E5%B7%A5%E7%A8%8B%E5%B8%AB&search_type=job&search_item=1&search_from=index\")\n",
    "# titles=driver.find_elements_by_class_name(\"Job_opening_item\")#舊寫法\n",
    "titles=driver.find_elements(by=By.CLASS_NAME, value=\"row.job_refer_detail_item\")\n",
    "\n",
    "for title in titles:\n",
    "    print(title.text)\n",
    "time.sleep(2)\n",
    "\n",
    "driver.close() "
   ]
  }
 ],
 "metadata": {
  "kernelspec": {
   "display_name": "Python 3 (ipykernel)",
   "language": "python",
   "name": "python3"
  },
  "language_info": {
   "codemirror_mode": {
    "name": "ipython",
    "version": 3
   },
   "file_extension": ".py",
   "mimetype": "text/x-python",
   "name": "python",
   "nbconvert_exporter": "python",
   "pygments_lexer": "ipython3",
   "version": "3.9.11"
  }
 },
 "nbformat": 4,
 "nbformat_minor": 5
}
