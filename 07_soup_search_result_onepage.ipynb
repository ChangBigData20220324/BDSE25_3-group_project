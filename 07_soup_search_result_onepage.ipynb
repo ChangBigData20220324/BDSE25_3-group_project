{
 "cells": [
  {
   "cell_type": "markdown",
   "id": "b30a93fa-3483-4f8e-b3ff-eb167bafe0d2",
   "metadata": {},
   "source": [
    "# 目標: 練習BeautifulSoup\n",
    "1. 取出 職缺名稱 公司名稱 詳細質料的連結"
   ]
  },
  {
   "cell_type": "markdown",
   "id": "2462647b-00f7-4c1e-9b33-98b7d22e9cbe",
   "metadata": {},
   "source": [
    "link:https://www.yes123.com.tw/wk_index/joblist.asp?search_job_t=1&strrec=0&search_key_word=%E5%BE%8C%E7%AB%AF%E5%B7%A5%E7%A8%8B%E5%B8%AB&search_type=job&search_item=1&search_from=index"
   ]
  },
  {
   "cell_type": "code",
   "execution_count": 1,
   "id": "8fac1d1f-0aab-4454-80ee-b1386217d1e6",
   "metadata": {},
   "outputs": [],
   "source": [
    "from selenium import webdriver\n",
    "from selenium.webdriver.chrome.service import Service\n",
    "from selenium.webdriver.common.by import By\n",
    "import time\n",
    "from selenium.webdriver import ActionChains\n",
    "from bs4 import BeautifulSoup\n",
    "import csv\n",
    "s = Service(\"./chromedriver.exe\")\n",
    "driver = webdriver.Chrome(service=s)\n",
    "driver.get(\"https://www.yes123.com.tw/wk_index/joblist.asp?find_key2=%E5%BE%8C%E7%AB%AF%E5%B7%A5%E7%A8%8B%E5%B8%AB&order_ascend=desc&strrec=90&search_key_word=%E5%BE%8C%E7%AB%AF%E5%B7%A5%E7%A8%8B%E5%B8%AB&search_from=joblist\")\n",
    "time.sleep(2)\n",
    "# titles=driver.find_elements_by_class_name(\"Job_opening_item\")#舊寫法\n",
    "job_titlepage = driver.page_source\n",
    "driver.close()\n",
    "soup = BeautifulSoup(str(job_titlepage), 'html.parser')"
   ]
  },
  {
   "cell_type": "code",
   "execution_count": 2,
   "id": "fb7c7df6-ab9d-4c98-9bd9-f13c8f7f9e31",
   "metadata": {
    "tags": []
   },
   "outputs": [
    {
     "name": "stdout",
     "output_type": "stream",
     "text": [
      "節能工程師\n",
      "鈞元能源技術工程股份有限公司\n",
      "桃園市龜山區 \n",
      "機械設備維修工程師\n",
      "鍵信工程有限公司\n",
      "高雄市林園區 \n",
      "助理工程師\n",
      "堅順工程股份有限公司\n",
      "新竹縣湖口鄉 \n",
      "空調工程師\n",
      "承科工程有限公司\n",
      "桃園市觀音區 \n",
      "內業工程師\n",
      "達信工程實業有限公司\n",
      "台中市太平區 \n",
      "太陽能電機工程師\n",
      "順桐工程行\n",
      "嘉義縣水上鄉 \n",
      "求職必備工具＋超夯工作\n"
     ]
    },
    {
     "ename": "AttributeError",
     "evalue": "'NoneType' object has no attribute 'get_text'",
     "output_type": "error",
     "traceback": [
      "\u001b[1;31m---------------------------------------------------------------------------\u001b[0m",
      "\u001b[1;31mAttributeError\u001b[0m                            Traceback (most recent call last)",
      "Input \u001b[1;32mIn [2]\u001b[0m, in \u001b[0;36m<cell line: 4>\u001b[1;34m()\u001b[0m\n\u001b[0;32m      7\u001b[0m     \u001b[38;5;28mprint\u001b[39m(all_titles)\n\u001b[0;32m      8\u001b[0m \u001b[38;5;66;03m# 公司名稱\u001b[39;00m\n\u001b[1;32m----> 9\u001b[0m     all_bus\u001b[38;5;241m=\u001b[39m \u001b[43mtitle_bus\u001b[49m\u001b[38;5;241;43m.\u001b[39;49m\u001b[43mfind\u001b[49m\u001b[43m(\u001b[49m\u001b[38;5;124;43m\"\u001b[39;49m\u001b[38;5;124;43mh6\u001b[39;49m\u001b[38;5;124;43m\"\u001b[39;49m\u001b[43m)\u001b[49m\u001b[38;5;241;43m.\u001b[39;49m\u001b[43mget_text\u001b[49m()\n\u001b[0;32m     10\u001b[0m     \u001b[38;5;28mprint\u001b[39m(all_bus)\n\u001b[0;32m     11\u001b[0m \u001b[38;5;66;03m#公司地址\u001b[39;00m\n",
      "\u001b[1;31mAttributeError\u001b[0m: 'NoneType' object has no attribute 'get_text'"
     ]
    }
   ],
   "source": [
    "# 所有公司的名稱和職缺\n",
    "job_titlepage_div = soup.find_all(\"div\",{\"class\":\"Job_opening_item\"})\n",
    "\n",
    "for title_bus in job_titlepage_div:\n",
    "# 職缺\n",
    "    all_titles = title_bus.find(\"h5\").get_text()\n",
    "    print(all_titles)\n",
    "# 公司名稱\n",
    "    all_bus= title_bus.find(\"h6\").get_text()\n",
    "    print(all_bus)\n",
    "#公司地址\n",
    "    all_addr=title_bus.find(\"div\",{\"class\":\"Job_opening_item_info\"}).find(\"span\").text\n",
    "    print(all_addr)"
   ]
  },
  {
   "cell_type": "code",
   "execution_count": null,
   "id": "c4250639-b1e1-4603-b2be-0c530dd90bed",
   "metadata": {
    "tags": []
   },
   "outputs": [],
   "source": [
    "# one page 完整每個職缺網頁連結,蒐集成一個list\n",
    "job_titlepage_div = soup.find_all(\"div\",{\"class\":\"Job_opening_item\"})\n",
    "yes123_host = \"https://www.yes123.com.tw/wk_index/\"\n",
    "link_results =  []\n",
    "for link in job_titlepage_div:\n",
    "# 連結ˊ\n",
    "    all_part_links = link.find(\"h5\").find(\"a\").get(\"href\")\n",
    "    # print(all_title_links)\n",
    "    all_title_links = yes123_host+all_part_links\n",
    "    # print(all_title_links)\n",
    "    \n",
    "    link_results.append(all_title_links)\n",
    "print(link_results)"
   ]
  },
  {
   "cell_type": "markdown",
   "id": "e9c23821-de43-48e1-bc73-57f8858798b3",
   "metadata": {},
   "source": [
    "## 確認欄位\n",
    "職缺\n",
    "公司名稱\n",
    "地址\n",
    "薪資\n",
    "連結\n",
    "工作內容\n",
    "學歷\n",
    "科系要求\n",
    "擅長工具\n",
    "其他條件\n"
   ]
  },
  {
   "cell_type": "markdown",
   "id": "6ddfe985-9ec7-443a-a545-6d82be392777",
   "metadata": {},
   "source": [
    "# 抓出整頁職缺detail的連結,且擷取其page_source,存到list"
   ]
  },
  {
   "cell_type": "code",
   "execution_count": null,
   "id": "43a49bf5-7f75-46f9-9f49-9804ba8eca57",
   "metadata": {
    "tags": []
   },
   "outputs": [],
   "source": [
    "# 找出內如demo2,因每頁項目不同\n",
    "from selenium import webdriver\n",
    "from selenium.webdriver.chrome.service import Service\n",
    "from selenium.webdriver.common.by import By\n",
    "import time\n",
    "from selenium.webdriver import ActionChains\n",
    "from bs4 import BeautifulSoup\n",
    "import csv\n",
    "s = Service(\"./chromedriver.exe\")\n",
    "page_source_results = []\n",
    "driver = webdriver.Chrome(service=s)\n",
    "for all_detail_page in link_results:\n",
    "    driver.get(all_detail_page)\n",
    "    time.sleep(5)\n",
    "    onepage_detail_pagesource = driver.page_source\n",
    "    time.sleep(1)\n",
    "    page_source_results.append(onepage_detail_pagesource)\n",
    "driver.close()\n",
    "print(len(page_source_results))"
   ]
  },
  {
   "cell_type": "markdown",
   "id": "5cfc9065-3a6f-4589-b515-561971c36d82",
   "metadata": {},
   "source": [
    "# 測試onepage 所有detaily 資料"
   ]
  },
  {
   "cell_type": "code",
   "execution_count": null,
   "id": "ebb825be-6f96-4425-81b6-774eee8f7a37",
   "metadata": {
    "jupyter": {
     "source_hidden": true
    },
    "tags": []
   },
   "outputs": [],
   "source": [
    "from bs4 import BeautifulSoup\n",
    "for test in page_source_results:\n",
    "    all_detail_soup = BeautifulSoup(str(test), 'html.parser')\n",
    "    # try:\n",
    "    #     #工作技能 =\n",
    "    #     job_key_div = all_detail_soup.find_all(\"div\",{\"class\":\"job_explain\"})[4].find_all(\"span\",{\"class\":\"right_main\"})\n",
    "    #     for i in job_key_div:\n",
    "    #         print(i.get_text())\n",
    "    # except: job_key_div=\" \"\n",
    "    #薪資ok\n",
    "    # job_salary_div = all_detail_soup.find(\"div\",{\"class\":\"job_explain mt\"}).find_all(\"span\",{\"class\":\"right_main\"})[1]\n",
    "    # print(job_salary_div.get_text())\n",
    "    #工作內容ok\n",
    "    # job_content_div =all_detail_soup.find(\"div\",{\"class\":\"job_explain mt\"}).find_all(\"span\",{\"class\":\"right_main\"})[0]\n",
    "    # print(job_content_div.get_text())\n",
    "    #學歷ok\n",
    "    # try:\n",
    "    #     job_sch_div = all_detail_soup.find_all(\"div\",{\"class\":\"job_explain\"})[2].find(\"h3\").text\n",
    "    #     if not \"工作條件\" in job_sch_div:\n",
    "    #         job_sch_div1 = all_detail_soup.find_all(\"div\",{\"class\":\"job_explain\"})[1].find_all(\"li\")[0].find(\"span\",{\"class\":\"right_main\"})\n",
    "    #         print(job_sch_div1.get_text())\n",
    "    #     else:\n",
    "    #         job_sch_div2 = all_detail_soup.find_all(\"div\",{\"class\":\"job_explain\"})[2].find_all(\"li\")[0].find(\"span\",{\"class\":\"right_main\"})\n",
    "    #         print(job_sch_div2.get_text())\n",
    "    # except:\n",
    "    #     job_sch_div3=\" \"\n",
    "    #     print(job_sch_div3)\n",
    "    # #科系要求OK\n",
    "    # try:\n",
    "    #     job_dep_div = all_detail_soup.find_all(\"div\",{\"class\":\"job_explain\"})[2].find(\"h3\").text\n",
    "    #     if not \"工作條件\" in job_dep_div:\n",
    "    #         job_dep_div1 = all_detail_soup.find_all(\"div\",{\"class\":\"job_explain\"})[1].find_all(\"li\")[1].find(\"span\",{\"class\":\"right_main\"})\n",
    "    #         print(job_dep_div1.get_text())\n",
    "    #     else:\n",
    "    #         job_dep_div2 = all_detail_soup.find_all(\"div\",{\"class\":\"job_explain\"})[2].find_all(\"li\")[1].find(\"span\",{\"class\":\"right_main\"})\n",
    "    #         print(job_dep_div2.get_text())\n",
    "    # except:\n",
    "    #     job_dep_div3=\" \"\n",
    "    #     print(job_dep_div3)\n",
    "\n",
    "    # try:\n",
    "    #     # 擅長工具\n",
    "    #     job_can_div = all_detail_soup.find_all(\"div\",{\"class\":\"job_explain\"})[4].find_all(\"span\",{\"class\":\"right_main\"})\n",
    "    #     for i in job_can_div:\n",
    "    #         print(i.get_text())\n",
    "    # except: job_key_div=\" \"\n",
    "    #     # 其他條件\n",
    "    # try:\n",
    "    #     job_other_div = all_detail_soup.find_all(\"div\",{\"class\":\"job_explain\"})[5].find_all(\"span\",{\"class\":\"exception\"})\n",
    "    #     for i in job_other_div:\n",
    "    #         print(i.get_text())\n",
    "    # except: job_key_div=\" \"\n",
    "        \n",
    "    \n",
    "    \n"
   ]
  },
  {
   "cell_type": "markdown",
   "id": "5af20a78-dcca-4454-9f60-02256858dac8",
   "metadata": {},
   "source": [
    "# 取出邏輯\n",
    "1. 先判斷這個大標籤有沒有在page中\n",
    "2. 取出標籤的在同樣的div裡第幾項\n",
    "3. 取子標籤"
   ]
  },
  {
   "cell_type": "code",
   "execution_count": null,
   "id": "09dde3d6-de9b-474f-821b-8336ba2acd59",
   "metadata": {
    "tags": []
   },
   "outputs": [],
   "source": [
    "from bs4 import BeautifulSoup\n",
    "for test in page_source_results:\n",
    "    all_detail_soup = BeautifulSoup(str(test), 'html.parser')\n",
    "    test2 = all_detail_soup.find_all(\"div\",{\"class\":\"job_explain\"})\n",
    "    for test3 in test2:\n",
    "        print(test3)"
   ]
  },
  {
   "cell_type": "code",
   "execution_count": null,
   "id": "3848f084-75aa-43bb-a362-c2c68b9168d4",
   "metadata": {},
   "outputs": [],
   "source": []
  }
 ],
 "metadata": {
  "kernelspec": {
   "display_name": "Python 3 (ipykernel)",
   "language": "python",
   "name": "python3"
  },
  "language_info": {
   "codemirror_mode": {
    "name": "ipython",
    "version": 3
   },
   "file_extension": ".py",
   "mimetype": "text/x-python",
   "name": "python",
   "nbconvert_exporter": "python",
   "pygments_lexer": "ipython3",
   "version": "3.9.11"
  }
 },
 "nbformat": 4,
 "nbformat_minor": 5
}
